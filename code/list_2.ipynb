{
 "cells": [
  {
   "cell_type": "code",
   "execution_count": 5,
   "metadata": {},
   "outputs": [
    {
     "data": {
      "text/plain": [
       "[2, 4, 3, 1, 5, 6, 9, 7, 9, 0]"
      ]
     },
     "execution_count": 5,
     "metadata": {},
     "output_type": "execute_result"
    }
   ],
   "source": [
    "original_list = [[2, 4, 3], [1, 5, 6], [9], [7, 9, 0]]\n",
    "new_li= []\n",
    "for i in original_list:\n",
    "    #print(i)\n",
    "    for j in i:\n",
    "        #print(j)\n",
    "        new_li.append(j)\n",
    "new_li"
   ]
  },
  {
   "cell_type": "code",
   "execution_count": 6,
   "metadata": {},
   "outputs": [
    {
     "data": {
      "text/plain": [
       "[2, 4, 3, [1, 5, 6], [9], 7, 9, 0]"
      ]
     },
     "execution_count": 6,
     "metadata": {},
     "output_type": "execute_result"
    }
   ],
   "source": [
    "#a = [[2, 4, 3], [[1, 5, 6], [9]], [7, 9, 0]] #homework\n"
   ]
  },
  {
   "cell_type": "code",
   "execution_count": 7,
   "metadata": {},
   "outputs": [
    {
     "data": {
      "text/plain": [
       "[4, 5, 8, 9, 1, 2, 6]"
      ]
     },
     "execution_count": 7,
     "metadata": {},
     "output_type": "execute_result"
    }
   ],
   "source": [
    "a = [1,2,5,6] \n",
    "b = [4,5,8,9]\n",
    "for i in a:\n",
    "    if i not in b:\n",
    "        b.append(i)\n",
    "b"
   ]
  },
  {
   "cell_type": "code",
   "execution_count": 10,
   "metadata": {},
   "outputs": [
    {
     "data": {
      "text/plain": [
       "[4, 5, 8, 9, 1, 2, 6]"
      ]
     },
     "execution_count": 10,
     "metadata": {},
     "output_type": "execute_result"
    }
   ],
   "source": [
    "def new(a,b):\n",
    "    for i in a:\n",
    "        if i not in b:\n",
    "            b.append(i)\n",
    "    return b\n",
    "\n",
    "\n",
    "a = [1,2,5,6] \n",
    "b = [4,5,8,9]\n",
    "new(a,b)"
   ]
  },
  {
   "cell_type": "code",
   "execution_count": 8,
   "metadata": {},
   "outputs": [
    {
     "data": {
      "text/plain": [
       "[4, 5, 8, 9, 1, 2, 5, 6]"
      ]
     },
     "execution_count": 8,
     "metadata": {},
     "output_type": "execute_result"
    }
   ],
   "source": [
    "a = [1,2,5,6] \n",
    "b = [4,5,8,9]\n",
    "for i in a:\n",
    "    #if i not in b:\n",
    "    b.append(i)\n",
    "b"
   ]
  },
  {
   "cell_type": "code",
   "execution_count": 11,
   "metadata": {},
   "outputs": [],
   "source": [
    "color_list = ['Red', 'Blue', 'Green', 'White', 'Black']"
   ]
  },
  {
   "cell_type": "code",
   "execution_count": 17,
   "metadata": {},
   "outputs": [
    {
     "name": "stdout",
     "output_type": "stream",
     "text": [
      "White\n"
     ]
    }
   ],
   "source": [
    "import random\n",
    "print(random.choice(color_list))"
   ]
  },
  {
   "cell_type": "code",
   "execution_count": 21,
   "metadata": {},
   "outputs": [],
   "source": [
    "a = [4, 5, 8, 9, 1, 2, 5, 6]\n",
    "a.sort(reverse=True)\n"
   ]
  },
  {
   "cell_type": "code",
   "execution_count": 22,
   "metadata": {},
   "outputs": [
    {
     "data": {
      "text/plain": [
       "8"
      ]
     },
     "execution_count": 22,
     "metadata": {},
     "output_type": "execute_result"
    }
   ],
   "source": [
    "a[1]"
   ]
  },
  {
   "cell_type": "code",
   "execution_count": 25,
   "metadata": {},
   "outputs": [
    {
     "name": "stdout",
     "output_type": "stream",
     "text": [
      "2\n"
     ]
    }
   ],
   "source": [
    "li1 = []\n",
    "li = [4, 5, 8, 9, 1, 2, 5, 6]\n",
    "for i in li:\n",
    "    li1.append(i)\n",
    "    li1.sort()\n",
    "  \n",
    "print(li1[1]) "
   ]
  },
  {
   "cell_type": "code",
   "execution_count": 28,
   "metadata": {},
   "outputs": [
    {
     "data": {
      "text/plain": [
       "2"
      ]
     },
     "execution_count": 28,
     "metadata": {},
     "output_type": "execute_result"
    }
   ],
   "source": [
    "def sec_min(li):\n",
    "    if len(li)<2:\n",
    "        print(\"index is out of range\")\n",
    "    if len(li)==2 and li[0]==li[1]:\n",
    "        print(\"both elements are common\")\n",
    "    \n",
    "    li1 = []\n",
    "    for i in li:\n",
    "        li1.append(i)\n",
    "        li1.sort()\n",
    "    return li1[1]\n",
    "li = [4, 5, 8, 9, 1, 2, 5, 6]\n",
    "sec_min(li)"
   ]
  },
  {
   "cell_type": "code",
   "execution_count": 29,
   "metadata": {},
   "outputs": [
    {
     "name": "stdout",
     "output_type": "stream",
     "text": [
      "[4, 5, 8, 9, 1, 2, 6]\n"
     ]
    }
   ],
   "source": [
    "uni = []\n",
    "li = [4, 5, 8, 9, 1, 2, 5, 6]\n",
    "for i in li:\n",
    "    if i not in uni:\n",
    "        uni.append(i)\n",
    "print(uni)\n"
   ]
  },
  {
   "cell_type": "code",
   "execution_count": 30,
   "metadata": {},
   "outputs": [
    {
     "name": "stdout",
     "output_type": "stream",
     "text": [
      "{10: 4, 20: 4, 40: 2, 50: 2, 30: 1}\n"
     ]
    }
   ],
   "source": [
    "my_list = [10, 10, 10, 10, 20, 20, 20, 20, 40, 40, 50, 50, 30]\n",
    "freq= {}\n",
    "for i in my_list:\n",
    "    if i in freq:\n",
    "        freq[i] += 1\n",
    "    else:\n",
    "        freq[i]= 1\n",
    "        \n",
    "print(freq)"
   ]
  },
  {
   "cell_type": "code",
   "execution_count": 35,
   "metadata": {},
   "outputs": [
    {
     "name": "stdout",
     "output_type": "stream",
     "text": [
      "[20, 30] 2\n"
     ]
    }
   ],
   "source": [
    "list1 = [10, 20, 30, 40, 40, 40, 70, 80, 99]\n",
    "min = 20\n",
    "max = 30\n",
    "new = []\n",
    "count= 0\n",
    "for i in list1:\n",
    "    if min<= i<= max:\n",
    "        count = count +1 \n",
    "        new.append(i)\n",
    "        \n",
    "print(new,count)"
   ]
  },
  {
   "cell_type": "code",
   "execution_count": 37,
   "metadata": {},
   "outputs": [
    {
     "name": "stdout",
     "output_type": "stream",
     "text": [
      "[20, 30] 2\n"
     ]
    }
   ],
   "source": [
    "def inner_range(list1): # try to fix \n",
    "    min = 20\n",
    "    max = 30\n",
    "    new = []\n",
    "    count= 0\n",
    "    for i in list1:\n",
    "        if min<= i<= max:\n",
    "            count = count +1 \n",
    "            new.append(i)\n",
    "    print(new,count)\n",
    "list1 = [10, 20, 30, 40, 40, 40, 70, 80, 99]\n",
    "\n",
    "inner_range(list1)"
   ]
  },
  {
   "cell_type": "code",
   "execution_count": 41,
   "metadata": {},
   "outputs": [
    {
     "name": "stdout",
     "output_type": "stream",
     "text": [
      "[[[]], [[10], [20], [30]], [[10, 20], [10, 30], [20, 30]], [[10, 20, 30]]]\n"
     ]
    }
   ],
   "source": [
    "list1 = [10, 20, 30]\n",
    "from itertools import combinations\n",
    "sub= []\n",
    "for i in range(len(list1)+1):\n",
    "    temp = [list(x) for x in combinations(list1, i)]\n",
    "    if len(temp) > 0:\n",
    "        sub.append(temp)\n",
    "print(sub)"
   ]
  },
  {
   "cell_type": "code",
   "execution_count": 46,
   "metadata": {},
   "outputs": [
    {
     "name": "stdout",
     "output_type": "stream",
     "text": [
      "0\n",
      "()\n",
      "1\n",
      "(10,)\n",
      "(20,)\n",
      "(30,)\n",
      "2\n",
      "(10, 20)\n",
      "(10, 30)\n",
      "(20, 30)\n",
      "3\n",
      "(10, 20, 30)\n"
     ]
    }
   ],
   "source": [
    "list1 = [10, 20, 30]\n",
    "from itertools import combinations\n",
    "sub= []\n",
    "for i in range(len(list1)+1):\n",
    "    print(i)\n",
    "    for x in combinations(list1, i):\n",
    "        print(x)"
   ]
  },
  {
   "cell_type": "code",
   "execution_count": 47,
   "metadata": {},
   "outputs": [
    {
     "name": "stdout",
     "output_type": "stream",
     "text": [
      "['p1', 'q1', 'p2', 'q2', 'p3', 'q3', 'p4', 'q4', 'p5', 'q5']\n"
     ]
    }
   ],
   "source": [
    "Sample_list = ['p','q']\n",
    "sample = []\n",
    "\n",
    "for i in range(1, 6):\n",
    "    sample.append(f\"p{i}\")\n",
    "    sample.append(f\"q{i}\")\n",
    "print(sample)"
   ]
  },
  {
   "cell_type": "code",
   "execution_count": 54,
   "metadata": {},
   "outputs": [
    {
     "name": "stdout",
     "output_type": "stream",
     "text": [
      "2fa9f82df30\n"
     ]
    }
   ],
   "source": [
    "x = \"HG\"\n",
    "print(format(id(x), 'x'))"
   ]
  },
  {
   "cell_type": "code",
   "execution_count": null,
   "metadata": {},
   "outputs": [],
   "source": [
    "# Write a Python program to find common items from two lists."
   ]
  },
  {
   "cell_type": "code",
   "execution_count": 59,
   "metadata": {},
   "outputs": [
    {
     "data": {
      "text/plain": [
       "113350"
      ]
     },
     "execution_count": 59,
     "metadata": {},
     "output_type": "execute_result"
    }
   ],
   "source": [
    "Sample_list=  [11, 33, 50]\n",
    "num = int(\"\".join(map(str,Sample_list)))\n",
    "num\n"
   ]
  },
  {
   "cell_type": "code",
   "execution_count": 60,
   "metadata": {},
   "outputs": [
    {
     "data": {
      "text/plain": [
       "int"
      ]
     },
     "execution_count": 60,
     "metadata": {},
     "output_type": "execute_result"
    }
   ],
   "source": [
    "type(num)"
   ]
  },
  {
   "cell_type": "code",
   "execution_count": 61,
   "metadata": {},
   "outputs": [
    {
     "name": "stdout",
     "output_type": "stream",
     "text": [
      "a\n",
      "ask\n",
      "b\n",
      "be\n",
      "c\n",
      "call\n",
      "come\n",
      "d\n",
      "do\n",
      "f\n",
      "feel\n",
      "find\n",
      "g\n",
      "get\n",
      "give\n",
      "go\n",
      "h\n",
      "have\n",
      "k\n",
      "know\n",
      "l\n",
      "leave\n",
      "look\n",
      "m\n",
      "make\n",
      "s\n",
      "say\n",
      "see\n",
      "seem\n",
      "t\n",
      "take\n",
      "tell\n",
      "think\n",
      "u\n",
      "use\n",
      "w\n",
      "want\n",
      "work\n"
     ]
    }
   ],
   "source": [
    "from itertools import groupby\n",
    "from operator import itemgetter\n",
    "\n",
    "# Define a list 'word_list' containing words\n",
    "word_list = ['be', 'have', 'do', 'say', 'get', 'make', 'go', 'know', 'take', 'see', 'come', 'think',\n",
    "             'look', 'want', 'give', 'use', 'find', 'tell', 'ask', 'work', 'seem', 'feel', 'leave', 'call']\n",
    "\n",
    "\n",
    "for letter, words in groupby(sorted(word_list), key=itemgetter(0)):\n",
    "    print(letter)\n",
    "    for word in words:\n",
    "        print(word)"
   ]
  },
  {
   "cell_type": "code",
   "execution_count": 62,
   "metadata": {},
   "outputs": [
    {
     "data": {
      "text/plain": [
       "['be', 'do', 'get', 'have', 'make', 'say']"
      ]
     },
     "execution_count": 62,
     "metadata": {},
     "output_type": "execute_result"
    }
   ],
   "source": [
    "a = ['be', 'have', 'do', 'say', 'get', 'make']\n",
    "a.sort()\n",
    "a"
   ]
  },
  {
   "cell_type": "code",
   "execution_count": null,
   "metadata": {},
   "outputs": [],
   "source": []
  }
 ],
 "metadata": {
  "kernelspec": {
   "display_name": "Python 3",
   "language": "python",
   "name": "python3"
  },
  "language_info": {
   "codemirror_mode": {
    "name": "ipython",
    "version": 3
   },
   "file_extension": ".py",
   "mimetype": "text/x-python",
   "name": "python",
   "nbconvert_exporter": "python",
   "pygments_lexer": "ipython3",
   "version": "3.11.4"
  }
 },
 "nbformat": 4,
 "nbformat_minor": 2
}
